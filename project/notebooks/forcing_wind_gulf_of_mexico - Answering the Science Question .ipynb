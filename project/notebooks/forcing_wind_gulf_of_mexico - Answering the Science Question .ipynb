{
 "cells": [
  {
   "cell_type": "code",
   "execution_count": 1,
   "id": "edc42b9a-ec29-4bf2-a3fb-873ee13aec6a",
   "metadata": {},
   "outputs": [
    {
     "ename": "SyntaxError",
     "evalue": "unterminated string literal (detected at line 3) (2939696859.py, line 3)",
     "output_type": "error",
     "traceback": [
      "\u001b[1;36m  Cell \u001b[1;32mIn[1], line 3\u001b[1;36m\u001b[0m\n\u001b[1;33m    This notebook serves as a demo for answering the science question underlying the design of Hetav's Gulf of Mexico Current regional model. You can follow and/or adapt this notebook based on your science question.\u001b[0m\n\u001b[1;37m                                                                                                    ^\u001b[0m\n\u001b[1;31mSyntaxError\u001b[0m\u001b[1;31m:\u001b[0m unterminated string literal (detected at line 3)\n"
     ]
    }
   ],
   "source": [
    "# Answering the Science Question\n",
    "\n",
    "This notebook serves as a demo for answering the science question underlying the design of Hetav's Gulf of Mexico Current regional model. You can follow and/or adapt this notebook based on your science question.\n",
    "\n",
    "For reference, the science question for Mike's model is: How does the mean location of the Loop Current vary over time, and what factors influence its position?**\n",
    "\n",
    "First, import packages to re-create and visualize the model fields here:"
   ]
  },
  {
   "cell_type": "code",
   "execution_count": null,
   "id": "22b36bad-1ba1-48fd-b7ad-95384296ea3b",
   "metadata": {},
   "outputs": [],
   "source": [
    "# ECCO Gulf of Mexico Forcing Movie Generator (EXF & OBCS) – Year 2017\n",
    "\n",
    "import os\n",
    "import xarray as xr\n",
    "import numpy as np\n",
    "import matplotlib.pyplot as plt\n",
    "import cartopy.crs as ccrs\n",
    "import cartopy.feature as cfeature\n",
    "import moviepy.video.io.ImageSequenceClip\n",
    "import matplotlib.gridspec as gridspec\n",
    "from PIL import Image\n",
    "\n",
    "# Define data directories\n",
    "exf_dir = r\"C:/Users/Hetav/OneDrive/Desktop/CS185C/Project/Project/input/input/exf\"\n",
    "obcs_dir = r\"C:/Users/Hetav/OneDrive/Desktop/CS185C/Project/Project/input/input/obcs\"\n",
    "output_folder = \"forcing_movie_frames\"\n",
    "os.makedirs(output_folder, exist_ok=True)\n",
    "\n",
    "# Load raw UWIND binary file\n",
    "uwind_path = os.path.join(exf_dir, \"UWIND_2017\")\n",
    "uwind_data = np.fromfile(uwind_path, dtype=\">f4\")  \n",
    "\n",
    "# Define fixed grid dimensions from Create External Conditions.ipynb\n",
    "n_rows = 156\n",
    "n_cols = 240\n",
    "nt = uwind_data.size // (n_rows * n_cols)\n",
    "uwind = uwind_data.reshape((nt, n_rows, n_cols))\n",
    "\n",
    "# Create synthetic lon/lat grid\n",
    "xgOrigin = -135\n",
    "ygOrigin = 29\n",
    "delX = 1/12\n",
    "delY = 1/16\n",
    "lon_vals = xgOrigin + np.arange(n_cols) * delX\n",
    "lat_vals = ygOrigin + np.arange(n_rows) * delY\n",
    "lon, lat = np.meshgrid(lon_vals, lat_vals)\n",
    "\n",
    "# Generate frames showing surface wind forcing\n",
    "frames = []\n",
    "n_frames = min(nt, 30)  \n",
    "\n",
    "for t in range(n_frames):\n",
    "    fig = plt.figure(figsize=(10, 6))\n",
    "    gs = gridspec.GridSpec(1, 2, width_ratios=[20, 1])\n",
    "    ax = plt.subplot(gs[0], projection=ccrs.PlateCarree())\n",
    "    cax = plt.subplot(gs[1])\n",
    "\n",
    "    ax.set_extent([lon.min(), lon.max(), lat.min(), lat.max()], crs=ccrs.PlateCarree())\n",
    "    ax.coastlines()\n",
    "    ax.add_feature(cfeature.LAND, color='lightgray')\n",
    "    ax.add_feature(cfeature.BORDERS, linestyle=':')\n",
    "\n",
    "    contour = ax.contourf(lon, lat, uwind[t], levels=30, cmap=\"coolwarm\", transform=ccrs.PlateCarree())\n",
    "    plt.colorbar(contour, cax=cax, label='Zonal Wind Forcing (m/s)', orientation='vertical')\n",
    "    ax.set_title(f\"Zonal Wind Forcing (UWIND) - Time Step {t}\")\n",
    "\n",
    "    frame_path = os.path.join(output_folder, f\"frame_{t:03d}.png\")\n",
    "    plt.savefig(frame_path, dpi=150)\n",
    "    plt.close()\n",
    "    frames.append(frame_path)\n",
    "\n",
    "for f in frames:\n",
    "    img = Image.open(f)\n",
    "    print(f\"{f} size: {img.size}\")\n",
    "\n",
    "# Create video\n",
    "clip = moviepy.video.io.ImageSequenceClip.ImageSequenceClip(frames, fps=3)\n",
    "clip.write_videofile(\"forcing_wind_gulf_of_mexico_2017.mp4\", codec=\"libx264\")"
   ]
  },
  {
   "cell_type": "markdown",
   "id": "789a8088-08fc-4b48-84c2-f2ca08849834",
   "metadata": {},
   "source": [
    "## How Does the Mean Location of the Loop Current Vary Over Time — and What Influences It?\n",
    "\n",
    "Based on the visual inspection of the forcing wind video over the Gulf of Mexico in 2017, the following conclusions can be drawn:\n",
    "\n",
    "The mean location of the Loop Current in the Gulf of Mexico varies significantly throughout the year, shifting northward and retreating southward in response to changes in atmospheric and oceanic conditions. Based on the 2017 wind forcing video, the dominant factor influencing this variability is the zonal wind stress, which alters surface currents through mechanisms like Ekman transport. Periods of strong eastward winds often correlate with a northward extension of the Loop Current, while weakened or reversed wind patterns can lead to its retraction and the shedding of eddies. These eddy shedding events, along with interactions with coastal topography and seasonal changes in temperature and salinity, further contribute to the dynamic behavior of the Loop Current over time.\n"
   ]
  }
 ],
 "metadata": {
  "kernelspec": {
   "display_name": "Python 3 (ipykernel)",
   "language": "python",
   "name": "python3"
  },
  "language_info": {
   "codemirror_mode": {
    "name": "ipython",
    "version": 3
   },
   "file_extension": ".py",
   "mimetype": "text/x-python",
   "name": "python",
   "nbconvert_exporter": "python",
   "pygments_lexer": "ipython3",
   "version": "3.12.7"
  }
 },
 "nbformat": 4,
 "nbformat_minor": 5
}
